{
 "cells": [
  {
   "cell_type": "code",
   "execution_count": 33,
   "metadata": {},
   "outputs": [
    {
     "name": "stdout",
     "output_type": "stream",
     "text": [
      "0.6632358995471387\n",
      "0.6648826677645121\n",
      "0.6479873717442778\n"
     ]
    }
   ],
   "source": [
    "import numpy as np\n",
    "import pandas as pd\n",
    "import re\n",
    "import numpy\n",
    "\n",
    "features2016=pd.read_csv('newfeatures2016.csv')\n",
    "count=0\n",
    "for i in range(0,len(features2016.index)):\n",
    "    count = count + features2016.loc[i, 'winner']\n",
    "count=count/len(features2016.index)\n",
    "print(count)\n",
    "\n",
    "count=0\n",
    "for i in range(0,len(features2016.index)):\n",
    "    if(features2016.loc[i, 'TMW']==0):\n",
    "        count = count + features2016.loc[i, 'winner']\n",
    "    if(features2016.loc[i, 'TMW']>0):\n",
    "        count = count + 1\n",
    "        \n",
    "count=count/len(features2016.index)\n",
    "print(count)\n",
    "\n",
    "\n",
    "\n",
    "features2017=pd.read_csv('features2017.csv')\n",
    "count=0\n",
    "for i in range(0,len(features2017.index)):\n",
    "    count = count + features2017.loc[i, 'winner']\n",
    "count=count/len(features2017.index)\n",
    "print(count)\n",
    "\n",
    "features2017a=pd.read_csv('newfeatures2017.csv')\n"
   ]
  },
  {
   "cell_type": "code",
   "execution_count": 34,
   "metadata": {},
   "outputs": [],
   "source": [
    "features2016 = features2016.filter(['FS','W1SP','W2SP','WSP','DF','BP','COMPLETE','TPW','SERVEADV','winner'], axis=1)\n",
    "features2017 = features2017.filter(['FS','W1SP','W2SP','WSP','DF','BP','COMPLETE','TPW','SERVEADV','winner'], axis=1)\n",
    "features2017a = features2017a.filter(['FS','W1SP','W2SP','WSP','DF','BP','COMPLETE','TPW','SERVEADV','winner'], axis=1)\n",
    "\n",
    "\n",
    "X_train = features2016.iloc[:, features2016.columns.get_loc('FS'):features2016.columns.get_loc('SERVEADV')].values\n",
    "y_train = features2016.iloc[:, features2016.columns.get_loc('winner')].values\n",
    "\n",
    "\n",
    "X_test = features2017.iloc[:, features2017.columns.get_loc('FS'):features2017.columns.get_loc('SERVEADV')].values\n",
    "y_test = features2017.iloc[:, features2017.columns.get_loc('winner')].values\n",
    "\n",
    "X_testa = features2017a.iloc[:, features2017a.columns.get_loc('FS'):features2017a.columns.get_loc('SERVEADV')].values\n"
   ]
  },
  {
   "cell_type": "code",
   "execution_count": 35,
   "metadata": {},
   "outputs": [
    {
     "data": {
      "text/plain": [
       "array([-0.00928962, -0.08823529, -0.01994302, -0.06065574, -0.15      ,\n",
       "       -0.4       , -0.06065574, -0.05785124])"
      ]
     },
     "execution_count": 35,
     "metadata": {},
     "output_type": "execute_result"
    }
   ],
   "source": [
    "X_train[0]"
   ]
  },
  {
   "cell_type": "code",
   "execution_count": 36,
   "metadata": {},
   "outputs": [
    {
     "data": {
      "text/plain": [
       "array([ 0.03482025, -0.05376766, -0.03      , -0.03613778, -0.08      ,\n",
       "       -0.31428571, -0.02283355, -0.05479452])"
      ]
     },
     "execution_count": 36,
     "metadata": {},
     "output_type": "execute_result"
    }
   ],
   "source": [
    "X_test[0]"
   ]
  },
  {
   "cell_type": "markdown",
   "metadata": {},
   "source": [
    "### Entrenamiento #1"
   ]
  },
  {
   "cell_type": "code",
   "execution_count": 20,
   "metadata": {},
   "outputs": [
    {
     "name": "stderr",
     "output_type": "stream",
     "text": [
      "c:\\users\\cufar\\anaconda3\\envs\\tensorflow\\lib\\site-packages\\ipykernel_launcher.py:12: UserWarning: Update your `Dense` call to the Keras 2 API: `Dense(activation=\"relu\", units=6, kernel_initializer=\"uniform\", input_dim=8)`\n",
      "  if sys.path[0] == '':\n",
      "c:\\users\\cufar\\anaconda3\\envs\\tensorflow\\lib\\site-packages\\ipykernel_launcher.py:15: UserWarning: Update your `Dense` call to the Keras 2 API: `Dense(units=6, kernel_initializer=\"uniform\", activation=\"relu\")`\n",
      "  from ipykernel import kernelapp as app\n",
      "c:\\users\\cufar\\anaconda3\\envs\\tensorflow\\lib\\site-packages\\ipykernel_launcher.py:18: UserWarning: Update your `Dense` call to the Keras 2 API: `Dense(units=1, kernel_initializer=\"uniform\", activation=\"sigmoid\")`\n",
      "c:\\users\\cufar\\anaconda3\\envs\\tensorflow\\lib\\site-packages\\keras\\models.py:942: UserWarning: The `nb_epoch` argument in `fit` has been renamed `epochs`.\n",
      "  warnings.warn('The `nb_epoch` argument in `fit` '\n"
     ]
    },
    {
     "name": "stdout",
     "output_type": "stream",
     "text": [
      "_________________________________________________________________\n",
      "Layer (type)                 Output Shape              Param #   \n",
      "=================================================================\n",
      "dense_13 (Dense)             (None, 6)                 54        \n",
      "_________________________________________________________________\n",
      "dense_14 (Dense)             (None, 6)                 42        \n",
      "_________________________________________________________________\n",
      "dense_15 (Dense)             (None, 1)                 7         \n",
      "=================================================================\n",
      "Total params: 103\n",
      "Trainable params: 103\n",
      "Non-trainable params: 0\n",
      "_________________________________________________________________\n",
      "None\n",
      "Epoch 1/20\n",
      "2429/2429 [==============================] - 1s 219us/step - loss: 0.5953 - acc: 0.6632\n",
      "Epoch 2/20\n",
      "2429/2429 [==============================] - 0s 152us/step - loss: 0.3686 - acc: 0.7530\n",
      "Epoch 3/20\n",
      "2429/2429 [==============================] - 0s 150us/step - loss: 0.3107 - acc: 0.9263\n",
      "Epoch 4/20\n",
      "2429/2429 [==============================] - 0s 152us/step - loss: 0.2816 - acc: 0.9345\n",
      "Epoch 5/20\n",
      "2429/2429 [==============================] - 0s 124us/step - loss: 0.2612 - acc: 0.9399\n",
      "Epoch 6/20\n",
      "2429/2429 [==============================] - 0s 124us/step - loss: 0.2448 - acc: 0.9415\n",
      "Epoch 7/20\n",
      "2429/2429 [==============================] - 0s 130us/step - loss: 0.2316 - acc: 0.9424\n",
      "Epoch 8/20\n",
      "2429/2429 [==============================] - 0s 124us/step - loss: 0.2202 - acc: 0.9428\n",
      "Epoch 9/20\n",
      "2429/2429 [==============================] - 0s 126us/step - loss: 0.2107 - acc: 0.9415\n",
      "Epoch 10/20\n",
      "2429/2429 [==============================] - 0s 124us/step - loss: 0.2025 - acc: 0.9428\n",
      "Epoch 11/20\n",
      "2429/2429 [==============================] - 0s 124us/step - loss: 0.1957 - acc: 0.9432\n",
      "Epoch 12/20\n",
      "2429/2429 [==============================] - 0s 137us/step - loss: 0.1899 - acc: 0.9420\n",
      "Epoch 13/20\n",
      "2429/2429 [==============================] - 0s 124us/step - loss: 0.1844 - acc: 0.9407\n",
      "Epoch 14/20\n",
      "2429/2429 [==============================] - 0s 130us/step - loss: 0.1802 - acc: 0.9411\n",
      "Epoch 15/20\n",
      "2429/2429 [==============================] - 0s 130us/step - loss: 0.1761 - acc: 0.9420\n",
      "Epoch 16/20\n",
      "2429/2429 [==============================] - 0s 125us/step - loss: 0.1725 - acc: 0.9424\n",
      "Epoch 17/20\n",
      "2429/2429 [==============================] - 0s 129us/step - loss: 0.1693 - acc: 0.9428\n",
      "Epoch 18/20\n",
      "2429/2429 [==============================] - 0s 133us/step - loss: 0.1664 - acc: 0.9403\n",
      "Epoch 19/20\n",
      "2429/2429 [==============================] - 0s 137us/step - loss: 0.1641 - acc: 0.9444\n",
      "Epoch 20/20\n",
      "2429/2429 [==============================] - 0s 143us/step - loss: 0.1617 - acc: 0.9424\n",
      "[[ 775  117]\n",
      " [  70 1572]]\n",
      "0.9262036306235202\n"
     ]
    }
   ],
   "source": [
    "import keras\n",
    "from keras import optimizers\n",
    "from keras.models import Sequential\n",
    "from keras.layers import Dense, Dropout, BatchNormalization\n",
    "from sklearn.metrics import confusion_matrix\n",
    "from sklearn.metrics import accuracy_score\n",
    "from keras.callbacks import ModelCheckpoint\n",
    "\n",
    "classifier = Sequential()\n",
    "\n",
    "# Adding the input layer and the first hidden layer\n",
    "classifier.add(Dense(output_dim = 6, init = 'uniform', activation = 'relu', input_dim = X_train.shape[1]))\n",
    "\n",
    "# Adding the second hidden layer\n",
    "classifier.add(Dense(output_dim = 6, init = 'uniform', activation = 'relu'))\n",
    "\n",
    "# Adding the output layer\n",
    "classifier.add(Dense(output_dim = 1, init = 'uniform', activation = 'sigmoid'))\n",
    "\n",
    "# Compiling Neural Network\n",
    "classifier.compile(optimizer = 'adam', loss = 'binary_crossentropy', metrics = ['accuracy'])\n",
    "print(classifier.summary())\n",
    "\n",
    "# Fitting our model \n",
    "classifier.fit(X_train, y_train, batch_size = 10, nb_epoch = 20)\n",
    "\n",
    "# Predicting the Test set results\n",
    "y_pred = classifier.predict(X_test)\n",
    "y_pred = (y_pred > 0.5)\n",
    "\n",
    "\n",
    "# Creating the Confusion Matrix\n",
    "cm = confusion_matrix(y_test, y_pred)\n",
    "print(cm)\n",
    "\n",
    "acc = accuracy_score(y_test, y_pred, normalize=True, sample_weight=None)\n",
    "print(acc)"
   ]
  },
  {
   "cell_type": "markdown",
   "metadata": {},
   "source": [
    "### Entrenamiento #2"
   ]
  },
  {
   "cell_type": "code",
   "execution_count": 51,
   "metadata": {},
   "outputs": [
    {
     "name": "stderr",
     "output_type": "stream",
     "text": [
      "c:\\users\\cufar\\anaconda3\\envs\\tensorflow\\lib\\site-packages\\ipykernel_launcher.py:4: UserWarning: Update your `Dense` call to the Keras 2 API: `Dense(units=50, kernel_initializer=\"uniform\", activation=\"relu\", input_dim=8)`\n",
      "  after removing the cwd from sys.path.\n",
      "c:\\users\\cufar\\anaconda3\\envs\\tensorflow\\lib\\site-packages\\ipykernel_launcher.py:9: UserWarning: Update your `Dense` call to the Keras 2 API: `Dense(units=1, activation=\"sigmoid\", kernel_initializer=\"uniform\")`\n",
      "  if __name__ == '__main__':\n"
     ]
    },
    {
     "name": "stdout",
     "output_type": "stream",
     "text": [
      "_________________________________________________________________\n",
      "Layer (type)                 Output Shape              Param #   \n",
      "=================================================================\n",
      "dense_68 (Dense)             (None, 50)                450       \n",
      "_________________________________________________________________\n",
      "batch_normalization_14 (Batc (None, 50)                200       \n",
      "_________________________________________________________________\n",
      "dense_69 (Dense)             (None, 1)                 51        \n",
      "=================================================================\n",
      "Total params: 701\n",
      "Trainable params: 601\n",
      "Non-trainable params: 100\n",
      "_________________________________________________________________\n",
      "None\n"
     ]
    },
    {
     "name": "stderr",
     "output_type": "stream",
     "text": [
      "c:\\users\\cufar\\anaconda3\\envs\\tensorflow\\lib\\site-packages\\keras\\models.py:942: UserWarning: The `nb_epoch` argument in `fit` has been renamed `epochs`.\n",
      "  warnings.warn('The `nb_epoch` argument in `fit` '\n"
     ]
    },
    {
     "name": "stdout",
     "output_type": "stream",
     "text": [
      "Train on 2429 samples, validate on 2886 samples\n",
      "Epoch 1/20\n",
      "2429/2429 [==============================] - 2s 874us/step - loss: 0.3062 - acc: 0.8905 - val_loss: 0.9559 - val_acc: 0.5319\n",
      "\n",
      "Epoch 00001: val_acc improved from -inf to 0.53188, saving model to Model_Arranco3.h5\n",
      "Epoch 2/20\n",
      "2429/2429 [==============================] - 1s 275us/step - loss: 0.2049 - acc: 0.9201 - val_loss: 0.8339 - val_acc: 0.6234\n",
      "\n",
      "Epoch 00002: val_acc improved from 0.53188 to 0.62335, saving model to Model_Arranco3.h5\n",
      "Epoch 3/20\n",
      "2429/2429 [==============================] - 1s 286us/step - loss: 0.2014 - acc: 0.9222 - val_loss: 0.8113 - val_acc: 0.6265\n",
      "\n",
      "Epoch 00003: val_acc improved from 0.62335 to 0.62647, saving model to Model_Arranco3.h5\n",
      "Epoch 4/20\n",
      "2429/2429 [==============================] - 1s 304us/step - loss: 0.1930 - acc: 0.9280 - val_loss: 0.8382 - val_acc: 0.6306\n",
      "\n",
      "Epoch 00004: val_acc improved from 0.62647 to 0.63063, saving model to Model_Arranco3.h5\n",
      "Epoch 5/20\n",
      "2429/2429 [==============================] - 1s 291us/step - loss: 0.1836 - acc: 0.9308 - val_loss: 0.7573 - val_acc: 0.6202\n",
      "\n",
      "Epoch 00005: val_acc did not improve\n",
      "Epoch 6/20\n",
      "2429/2429 [==============================] - 1s 321us/step - loss: 0.1872 - acc: 0.9275 - val_loss: 0.7887 - val_acc: 0.6306\n",
      "\n",
      "Epoch 00006: val_acc improved from 0.63063 to 0.63063, saving model to Model_Arranco3.h5\n",
      "Epoch 7/20\n",
      "2429/2429 [==============================] - 1s 300us/step - loss: 0.1924 - acc: 0.9300 - val_loss: 0.7697 - val_acc: 0.6178\n",
      "\n",
      "Epoch 00007: val_acc did not improve\n",
      "Epoch 8/20\n",
      "2429/2429 [==============================] - 1s 319us/step - loss: 0.1810 - acc: 0.9341 - val_loss: 0.7839 - val_acc: 0.6130\n",
      "\n",
      "Epoch 00008: val_acc did not improve\n",
      "Epoch 9/20\n",
      "2429/2429 [==============================] - 1s 289us/step - loss: 0.1768 - acc: 0.9317 - val_loss: 0.8016 - val_acc: 0.6157\n",
      "\n",
      "Epoch 00009: val_acc did not improve\n",
      "Epoch 10/20\n",
      "2429/2429 [==============================] - 1s 277us/step - loss: 0.1738 - acc: 0.9354 - val_loss: 0.8354 - val_acc: 0.6147\n",
      "\n",
      "Epoch 00010: val_acc did not improve\n",
      "Epoch 11/20\n",
      "2429/2429 [==============================] - 1s 329us/step - loss: 0.1807 - acc: 0.9333 - val_loss: 0.8119 - val_acc: 0.6026\n",
      "\n",
      "Epoch 00011: val_acc did not improve\n",
      "Epoch 12/20\n",
      "2429/2429 [==============================] - 1s 287us/step - loss: 0.1785 - acc: 0.9341 - val_loss: 0.8158 - val_acc: 0.5922\n",
      "\n",
      "Epoch 00012: val_acc did not improve\n",
      "Epoch 13/20\n",
      "2429/2429 [==============================] - 1s 321us/step - loss: 0.1763 - acc: 0.9312 - val_loss: 0.8499 - val_acc: 0.5977\n",
      "\n",
      "Epoch 00013: val_acc did not improve\n",
      "Epoch 14/20\n",
      "2429/2429 [==============================] - 1s 296us/step - loss: 0.1747 - acc: 0.9374 - val_loss: 0.8821 - val_acc: 0.5586\n",
      "\n",
      "Epoch 00014: val_acc did not improve\n",
      "Epoch 15/20\n",
      "2429/2429 [==============================] - 1s 348us/step - loss: 0.1678 - acc: 0.9403 - val_loss: 0.9097 - val_acc: 0.5835\n",
      "\n",
      "Epoch 00015: val_acc did not improve\n",
      "Epoch 16/20\n",
      "2429/2429 [==============================] - 1s 338us/step - loss: 0.1837 - acc: 0.9378 - val_loss: 0.8833 - val_acc: 0.5679\n",
      "\n",
      "Epoch 00016: val_acc did not improve\n",
      "Epoch 17/20\n",
      "2429/2429 [==============================] - 1s 300us/step - loss: 0.1904 - acc: 0.9292 - val_loss: 0.9576 - val_acc: 0.4834\n",
      "\n",
      "Epoch 00017: val_acc did not improve\n",
      "Epoch 18/20\n",
      "2429/2429 [==============================] - 1s 322us/step - loss: 0.1762 - acc: 0.9370 - val_loss: 0.9428 - val_acc: 0.4889\n",
      "\n",
      "Epoch 00018: val_acc did not improve\n",
      "Epoch 19/20\n",
      "2429/2429 [==============================] - 1s 313us/step - loss: 0.1772 - acc: 0.9354 - val_loss: 0.9313 - val_acc: 0.5606\n",
      "\n",
      "Epoch 00019: val_acc did not improve\n",
      "Epoch 20/20\n",
      "2429/2429 [==============================] - 1s 375us/step - loss: 0.1643 - acc: 0.9374 - val_loss: 0.8792 - val_acc: 0.5832\n",
      "\n",
      "Epoch 00020: val_acc did not improve\n",
      "[[ 237  793]\n",
      " [ 410 1446]]\n",
      "0.5831600831600832\n"
     ]
    }
   ],
   "source": [
    "classifier = Sequential()\n",
    "\n",
    "# Adding the input layer and the first hidden layer\n",
    "classifier.add(Dense(output_dim = 50, init = 'uniform', activation = 'relu', input_dim = X_train.shape[1]))\n",
    "\n",
    "classifier.add(BatchNormalization())\n",
    "\n",
    "# Adding the output layer\n",
    "classifier.add(Dense(output_dim = 1, init = 'uniform', activation = 'sigmoid'))\n",
    "\n",
    "# Compiling Neural Network\n",
    "classifier.compile(optimizer = 'adam', loss = 'binary_crossentropy', metrics = ['accuracy'])\n",
    "print(classifier.summary())\n",
    "\n",
    "checkpoint = ModelCheckpoint('Model_Arranco3.h5', monitor='val_acc', verbose=1, save_best_only=True, mode='max')\n",
    "callbacks_list = [checkpoint]\n",
    "\n",
    "\n",
    "# Fitting our model \n",
    "classifier.fit(X_train, y_train, batch_size = 10, nb_epoch = 20,validation_data=(X_test, y_test),callbacks=callbacks_list)\n",
    "\n",
    "# Predicting the Test set results\n",
    "y_pred = classifier.predict(X_test)\n",
    "y_pred = (y_pred > 0.5)\n",
    "\n",
    "cm = confusion_matrix(y_test, y_pred)\n",
    "print(cm)\n",
    "\n",
    "acc = accuracy_score(y_test, y_pred, normalize=True, sample_weight=None)\n",
    "print(acc)"
   ]
  },
  {
   "cell_type": "code",
   "execution_count": 47,
   "metadata": {},
   "outputs": [
    {
     "ename": "FileNotFoundError",
     "evalue": "[Errno 2] No such file or directory: 'Train_Loss'",
     "output_type": "error",
     "traceback": [
      "\u001b[1;31m---------------------------------------------------------------------------\u001b[0m",
      "\u001b[1;31mFileNotFoundError\u001b[0m                         Traceback (most recent call last)",
      "\u001b[1;32m<ipython-input-47-e9680b6f45c0>\u001b[0m in \u001b[0;36m<module>\u001b[1;34m()\u001b[0m\n\u001b[1;32m----> 1\u001b[1;33m \u001b[1;32mwith\u001b[0m \u001b[0mopen\u001b[0m\u001b[1;33m(\u001b[0m\u001b[1;34m'Train_Loss'\u001b[0m\u001b[1;33m,\u001b[0m \u001b[1;34m'rb'\u001b[0m\u001b[1;33m)\u001b[0m \u001b[1;32mas\u001b[0m \u001b[0mf\u001b[0m\u001b[1;33m:\u001b[0m\u001b[1;33m\u001b[0m\u001b[0m\n\u001b[0m\u001b[0;32m      2\u001b[0m     \u001b[0mLoss\u001b[0m \u001b[1;33m=\u001b[0m \u001b[0mpickle\u001b[0m\u001b[1;33m.\u001b[0m\u001b[0mload\u001b[0m\u001b[1;33m(\u001b[0m\u001b[0mf\u001b[0m\u001b[1;33m)\u001b[0m\u001b[1;33m\u001b[0m\u001b[0m\n\u001b[0;32m      3\u001b[0m \u001b[1;32mwith\u001b[0m \u001b[0mopen\u001b[0m\u001b[1;33m(\u001b[0m\u001b[1;34m'Val_Acc'\u001b[0m\u001b[1;33m,\u001b[0m \u001b[1;34m'rb'\u001b[0m\u001b[1;33m)\u001b[0m \u001b[1;32mas\u001b[0m \u001b[0mf\u001b[0m\u001b[1;33m:\u001b[0m\u001b[1;33m\u001b[0m\u001b[0m\n\u001b[0;32m      4\u001b[0m     \u001b[0mVal_Acc\u001b[0m\u001b[1;33m=\u001b[0m \u001b[0mpickle\u001b[0m\u001b[1;33m.\u001b[0m\u001b[0mload\u001b[0m\u001b[1;33m(\u001b[0m\u001b[0mf\u001b[0m\u001b[1;33m)\u001b[0m\u001b[1;33m\u001b[0m\u001b[0m\n\u001b[0;32m      5\u001b[0m \u001b[1;32mwith\u001b[0m \u001b[0mopen\u001b[0m\u001b[1;33m(\u001b[0m\u001b[1;34m'Train_Acc'\u001b[0m\u001b[1;33m,\u001b[0m \u001b[1;34m'rb'\u001b[0m\u001b[1;33m)\u001b[0m \u001b[1;32mas\u001b[0m \u001b[0mf\u001b[0m\u001b[1;33m:\u001b[0m\u001b[1;33m\u001b[0m\u001b[0m\n",
      "\u001b[1;31mFileNotFoundError\u001b[0m: [Errno 2] No such file or directory: 'Train_Loss'"
     ]
    }
   ],
   "source": [
    "with open('Train_Loss', 'rb') as f:\n",
    "    Loss = pickle.load(f)\n",
    "with open('Val_Acc', 'rb') as f:\n",
    "    Val_Acc= pickle.load(f)\n",
    "with open('Train_Acc', 'rb') as f:\n",
    "    Train_Acc = pickle.load(f)\n",
    "with open('Val_Loss', 'rb') as f:\n",
    "    Val_Loss = pickle.load(f)\n",
    "    \n",
    "epochs=40\n",
    "epochs_plot = [i+1 for i in range (epochs)]\n",
    "    \n",
    "plt.figure(1, figsize=(10,5))\n",
    "plt.grid()\n",
    "font = {'size'   : 15}\n",
    "plt.rc('font', **font)\n",
    "plt.title('Trainig loss & Validation loss')\n",
    "plt.xlabel('Epoch')\n",
    "plt.plot(epochs_plot, Loss, linewidth=4, color='b', label='Training Loss')\n",
    "plt.plot(epochs_plot, Val_Loss, linewidth=4, color='g', label='Validation Loss')\n",
    "plt.legend(loc='upper right')\n",
    "\n",
    "plt.figure(2, figsize=(10,5))\n",
    "plt.grid()\n",
    "font = {'size'   : 15}\n",
    "plt.rc('font', **font)\n",
    "plt.title('Traininig Acc & Validation Acc')\n",
    "plt.xlabel('Epoch')\n",
    "plt.plot(epochs_plot, Train_Acc, linewidth=3, color='b', label='Training Accuracy')\n",
    "plt.plot(epochs_plot, Val_Acc, linewidth=3, color='g', label='Validation Accuracy')\n",
    "plt.legend(loc='right')"
   ]
  },
  {
   "cell_type": "code",
   "execution_count": null,
   "metadata": {},
   "outputs": [],
   "source": []
  }
 ],
 "metadata": {
  "kernelspec": {
   "display_name": "Python 3",
   "language": "python",
   "name": "python3"
  },
  "language_info": {
   "codemirror_mode": {
    "name": "ipython",
    "version": 3
   },
   "file_extension": ".py",
   "mimetype": "text/x-python",
   "name": "python",
   "nbconvert_exporter": "python",
   "pygments_lexer": "ipython3",
   "version": "3.5.5"
  }
 },
 "nbformat": 4,
 "nbformat_minor": 2
}
