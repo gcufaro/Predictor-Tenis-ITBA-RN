{
 "cells": [
  {
   "cell_type": "code",
   "execution_count": 106,
   "metadata": {},
   "outputs": [
    {
     "name": "stdout",
     "output_type": "stream",
     "text": [
      "0.6632358995471387\n",
      "0.6648826677645121\n",
      "0.6479873717442778\n"
     ]
    }
   ],
   "source": [
    "import numpy as np\n",
    "import pandas as pd\n",
    "import re\n",
    "import numpy\n",
    "\n",
    "features2016=pd.read_csv('features2016.csv')\n",
    "count=0\n",
    "for i in range(0,len(features2016.index)):\n",
    "    count = count + features2016.loc[i, 'winner']\n",
    "count=count/len(features2016.index)\n",
    "print(count)\n",
    "\n",
    "count=0\n",
    "for i in range(0,len(features2016.index)):\n",
    "    if(features2016.loc[i, 'TMW']==0):\n",
    "        count = count + features2016.loc[i, 'winner']\n",
    "    if(features2016.loc[i, 'TMW']>0):\n",
    "        count = count + 1\n",
    "        \n",
    "count=count/len(features2016.index)\n",
    "print(count)\n",
    "\n",
    "\n",
    "\n",
    "features2017=pd.read_csv('features2017.csv')\n",
    "count=0\n",
    "for i in range(0,len(features2017.index)):\n",
    "    count = count + features2017.loc[i, 'winner']\n",
    "count=count/len(features2017.index)\n",
    "print(count)\n",
    "\n",
    "features2016 = features2016.filter(['FS','W1SP','W2SP','WSP','DF','BP','COMPLETE','TPW','SERVEADV','winner'], axis=1)\n",
    "features2017 = features2017.filter(['FS','W1SP','W2SP','WSP','DF','BP','COMPLETE','TPW','SERVEADV','winner'], axis=1)\n"
   ]
  },
  {
   "cell_type": "code",
   "execution_count": 93,
   "metadata": {},
   "outputs": [],
   "source": [
    "X_train = features2016.iloc[:, features2016.columns.get_loc('FS'):features2016.columns.get_loc('SERVEADV')].values\n",
    "y_train = features2016.iloc[:, features2016.columns.get_loc('winner')].values\n",
    "\n",
    "\n",
    "X_test = features2017.iloc[:, features2017.columns.get_loc('FS'):features2017.columns.get_loc('SERVEADV')].values\n",
    "y_test = features2017.iloc[:, features2017.columns.get_loc('winner')].values"
   ]
  },
  {
   "cell_type": "code",
   "execution_count": 94,
   "metadata": {},
   "outputs": [
    {
     "name": "stderr",
     "output_type": "stream",
     "text": [
      "c:\\users\\cufar\\anaconda3\\envs\\tensorflow\\lib\\site-packages\\ipykernel_launcher.py:8: UserWarning: Update your `Dense` call to the Keras 2 API: `Dense(kernel_initializer=\"uniform\", input_dim=8, activation=\"relu\", units=6)`\n",
      "  \n",
      "c:\\users\\cufar\\anaconda3\\envs\\tensorflow\\lib\\site-packages\\ipykernel_launcher.py:11: UserWarning: Update your `Dense` call to the Keras 2 API: `Dense(kernel_initializer=\"uniform\", activation=\"relu\", units=6)`\n",
      "  # This is added back by InteractiveShellApp.init_path()\n",
      "c:\\users\\cufar\\anaconda3\\envs\\tensorflow\\lib\\site-packages\\ipykernel_launcher.py:14: UserWarning: Update your `Dense` call to the Keras 2 API: `Dense(kernel_initializer=\"uniform\", activation=\"sigmoid\", units=1)`\n",
      "  \n"
     ]
    }
   ],
   "source": [
    "import keras\n",
    "from keras.models import Sequential\n",
    "from keras.layers import Dense\n",
    "\n",
    "classifier = Sequential()\n",
    "\n",
    "# Adding the input layer and the first hidden layer\n",
    "classifier.add(Dense(output_dim = 6, init = 'uniform', activation = 'relu', input_dim = X_train.shape[1]))\n",
    "\n",
    "# Adding the second hidden layer\n",
    "classifier.add(Dense(output_dim = 6, init = 'uniform', activation = 'relu'))\n",
    "\n",
    "# Adding the output layer\n",
    "classifier.add(Dense(output_dim = 1, init = 'uniform', activation = 'sigmoid'))\n",
    "\n",
    "# Compiling Neural Network\n",
    "classifier.compile(optimizer = 'adam', loss = 'binary_crossentropy', metrics = ['accuracy'])"
   ]
  },
  {
   "cell_type": "code",
   "execution_count": 95,
   "metadata": {},
   "outputs": [
    {
     "name": "stderr",
     "output_type": "stream",
     "text": [
      "c:\\users\\cufar\\anaconda3\\envs\\tensorflow\\lib\\site-packages\\keras\\models.py:942: UserWarning: The `nb_epoch` argument in `fit` has been renamed `epochs`.\n",
      "  warnings.warn('The `nb_epoch` argument in `fit` '\n"
     ]
    },
    {
     "name": "stdout",
     "output_type": "stream",
     "text": [
      "Epoch 1/20\n",
      "2429/2429 [==============================] - 1s 315us/step - loss: 0.6120 - acc: 0.6620\n",
      "Epoch 2/20\n",
      "2429/2429 [==============================] - 0s 129us/step - loss: 0.4010 - acc: 0.7048\n",
      "Epoch 3/20\n",
      "2429/2429 [==============================] - 0s 135us/step - loss: 0.3278 - acc: 0.9098\n",
      "Epoch 4/20\n",
      "2429/2429 [==============================] - 0s 122us/step - loss: 0.2652 - acc: 0.9317\n",
      "Epoch 5/20\n",
      "2429/2429 [==============================] - 0s 141us/step - loss: 0.1911 - acc: 0.9358\n",
      "Epoch 6/20\n",
      "2429/2429 [==============================] - 0s 148us/step - loss: 0.1672 - acc: 0.9382\n",
      "Epoch 7/20\n",
      "2429/2429 [==============================] - 0s 129us/step - loss: 0.1597 - acc: 0.9382\n",
      "Epoch 8/20\n",
      "2429/2429 [==============================] - 0s 129us/step - loss: 0.1558 - acc: 0.9399\n",
      "Epoch 9/20\n",
      "2429/2429 [==============================] - 0s 154us/step - loss: 0.1536 - acc: 0.9395\n",
      "Epoch 10/20\n",
      "2429/2429 [==============================] - 0s 148us/step - loss: 0.1517 - acc: 0.9399\n",
      "Epoch 11/20\n",
      "2429/2429 [==============================] - 0s 141us/step - loss: 0.1504 - acc: 0.9399\n",
      "Epoch 12/20\n",
      "2429/2429 [==============================] - 0s 154us/step - loss: 0.1491 - acc: 0.9403\n",
      "Epoch 13/20\n",
      "2429/2429 [==============================] - 0s 148us/step - loss: 0.1483 - acc: 0.9399\n",
      "Epoch 14/20\n",
      "2429/2429 [==============================] - 0s 141us/step - loss: 0.1477 - acc: 0.9395\n",
      "Epoch 15/20\n",
      "2429/2429 [==============================] - 0s 129us/step - loss: 0.1471 - acc: 0.9424\n",
      "Epoch 16/20\n",
      "2429/2429 [==============================] - 0s 129us/step - loss: 0.1460 - acc: 0.9420\n",
      "Epoch 17/20\n",
      "2429/2429 [==============================] - 0s 141us/step - loss: 0.1459 - acc: 0.9403\n",
      "Epoch 18/20\n",
      "2429/2429 [==============================] - 0s 129us/step - loss: 0.1445 - acc: 0.9436\n",
      "Epoch 19/20\n",
      "2429/2429 [==============================] - 0s 135us/step - loss: 0.1441 - acc: 0.9428\n",
      "Epoch 20/20\n",
      "2429/2429 [==============================] - 0s 129us/step - loss: 0.1434 - acc: 0.9415\n"
     ]
    },
    {
     "data": {
      "text/plain": [
       "<keras.callbacks.History at 0x20bb01d0fd0>"
      ]
     },
     "execution_count": 95,
     "metadata": {},
     "output_type": "execute_result"
    }
   ],
   "source": [
    "# Fitting our model \n",
    "classifier.fit(X_train, y_train, batch_size = 10, nb_epoch = 20)"
   ]
  },
  {
   "cell_type": "code",
   "execution_count": 96,
   "metadata": {},
   "outputs": [],
   "source": [
    "# Predicting the Test set results\n",
    "y_pred = classifier.predict(X_test)\n",
    "y_pred = (y_pred > 0.5)"
   ]
  },
  {
   "cell_type": "code",
   "execution_count": 97,
   "metadata": {},
   "outputs": [
    {
     "name": "stdout",
     "output_type": "stream",
     "text": [
      "[[ 791  101]\n",
      " [  68 1574]]\n",
      "0.9333070244672454\n"
     ]
    }
   ],
   "source": [
    "# Creating the Confusion Matrix\n",
    "from sklearn.metrics import confusion_matrix\n",
    "from sklearn.metrics import accuracy_score\n",
    "\n",
    "cm = confusion_matrix(y_test, y_pred)\n",
    "print(cm)\n",
    "\n",
    "acc = accuracy_score(y_test, y_pred, normalize=True, sample_weight=None)\n",
    "print(acc)"
   ]
  },
  {
   "cell_type": "code",
   "execution_count": null,
   "metadata": {},
   "outputs": [],
   "source": []
  }
 ],
 "metadata": {
  "kernelspec": {
   "display_name": "Python 3",
   "language": "python",
   "name": "python3"
  },
  "language_info": {
   "codemirror_mode": {
    "name": "ipython",
    "version": 3
   },
   "file_extension": ".py",
   "mimetype": "text/x-python",
   "name": "python",
   "nbconvert_exporter": "python",
   "pygments_lexer": "ipython3",
   "version": "3.5.5"
  }
 },
 "nbformat": 4,
 "nbformat_minor": 2
}
