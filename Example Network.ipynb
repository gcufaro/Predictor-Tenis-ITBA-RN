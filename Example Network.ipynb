{
 "cells": [
  {
   "cell_type": "code",
   "execution_count": 1,
   "metadata": {},
   "outputs": [],
   "source": [
    "# Importing the libraries\n",
    "import numpy as np\n",
    "import matplotlib.pyplot as plt\n",
    "import pandas as pd\n",
    "\n",
    "# Importing the dataset\n",
    "dataset = pd.read_csv('Churn_Modelling.csv')"
   ]
  },
  {
   "cell_type": "code",
   "execution_count": 2,
   "metadata": {},
   "outputs": [],
   "source": [
    "X = dataset.iloc[:, 3:13].values\n",
    "y = dataset.iloc[:, 13].values"
   ]
  },
  {
   "cell_type": "code",
   "execution_count": 4,
   "metadata": {},
   "outputs": [
    {
     "data": {
      "text/plain": [
       "array([[619, 'France', 'Female', ..., 1, 1, 101348.88],\n",
       "       [608, 'Spain', 'Female', ..., 0, 1, 112542.58],\n",
       "       [502, 'France', 'Female', ..., 1, 0, 113931.57],\n",
       "       ...,\n",
       "       [709, 'France', 'Female', ..., 0, 1, 42085.58],\n",
       "       [772, 'Germany', 'Male', ..., 1, 0, 92888.52],\n",
       "       [792, 'France', 'Female', ..., 1, 0, 38190.78]], dtype=object)"
      ]
     },
     "execution_count": 4,
     "metadata": {},
     "output_type": "execute_result"
    }
   ],
   "source": [
    "X"
   ]
  },
  {
   "cell_type": "code",
   "execution_count": 3,
   "metadata": {},
   "outputs": [
    {
     "data": {
      "text/plain": [
       "array([1, 0, 1, ..., 1, 1, 0], dtype=int64)"
      ]
     },
     "execution_count": 3,
     "metadata": {},
     "output_type": "execute_result"
    }
   ],
   "source": [
    "y"
   ]
  },
  {
   "cell_type": "code",
   "execution_count": 6,
   "metadata": {},
   "outputs": [],
   "source": [
    "from sklearn.preprocessing import LabelEncoder, OneHotEncoder\n",
    "labelencoder_X_1 = LabelEncoder()\n",
    "X[:, 1] = labelencoder_X_1.fit_transform(X[:, 1])\n",
    "labelencoder_X_2 = LabelEncoder()\n",
    "X[:, 2] = labelencoder_X_2.fit_transform(X[:, 2])"
   ]
  },
  {
   "cell_type": "code",
   "execution_count": 8,
   "metadata": {},
   "outputs": [],
   "source": [
    "onehotencoder = OneHotEncoder(categorical_features = [1])\n",
    "X = onehotencoder.fit_transform(X).toarray()\n",
    "X = X[:, 1:]"
   ]
  },
  {
   "cell_type": "code",
   "execution_count": 9,
   "metadata": {},
   "outputs": [],
   "source": [
    "# Splitting the dataset into the Training set and Test set\n",
    "\n",
    "from sklearn.model_selection import train_test_split\n",
    "X_train, X_test, y_train, y_test = train_test_split(X, y, test_size = 0.2)"
   ]
  },
  {
   "cell_type": "code",
   "execution_count": 11,
   "metadata": {},
   "outputs": [
    {
     "data": {
      "text/plain": [
       "(8000, 11)"
      ]
     },
     "execution_count": 11,
     "metadata": {},
     "output_type": "execute_result"
    }
   ],
   "source": [
    "y_train.shape"
   ]
  },
  {
   "cell_type": "code",
   "execution_count": 12,
   "metadata": {},
   "outputs": [],
   "source": [
    "# Feature Scaling\n",
    "\n",
    "from sklearn.preprocessing import StandardScaler\n",
    "sc = StandardScaler()\n",
    "X_train = sc.fit_transform(X_train)\n",
    "X_test = sc.transform(X_test)"
   ]
  },
  {
   "cell_type": "code",
   "execution_count": 14,
   "metadata": {},
   "outputs": [
    {
     "data": {
      "text/plain": [
       "11"
      ]
     },
     "execution_count": 14,
     "metadata": {},
     "output_type": "execute_result"
    }
   ],
   "source": [
    "X_train.shape"
   ]
  },
  {
   "cell_type": "code",
   "execution_count": 7,
   "metadata": {},
   "outputs": [
    {
     "name": "stderr",
     "output_type": "stream",
     "text": [
      "c:\\users\\cufar\\anaconda3\\envs\\tensorflow\\lib\\site-packages\\h5py\\__init__.py:36: FutureWarning: Conversion of the second argument of issubdtype from `float` to `np.floating` is deprecated. In future, it will be treated as `np.float64 == np.dtype(float).type`.\n",
      "  from ._conv import register_converters as _register_converters\n",
      "Using TensorFlow backend.\n"
     ]
    }
   ],
   "source": [
    "# Importing the Keras libraries and packages\n",
    "import keras\n",
    "from keras.models import Sequential\n",
    "from keras.layers import Dense"
   ]
  },
  {
   "cell_type": "code",
   "execution_count": 8,
   "metadata": {},
   "outputs": [],
   "source": [
    "#Initializing Neural Network\n",
    "classifier = Sequential()"
   ]
  },
  {
   "cell_type": "code",
   "execution_count": 9,
   "metadata": {},
   "outputs": [
    {
     "name": "stderr",
     "output_type": "stream",
     "text": [
      "c:\\users\\cufar\\anaconda3\\envs\\tensorflow\\lib\\site-packages\\ipykernel_launcher.py:2: UserWarning: Update your `Dense` call to the Keras 2 API: `Dense(units=6, kernel_initializer=\"uniform\", input_dim=11, activation=\"relu\")`\n",
      "  \n",
      "c:\\users\\cufar\\anaconda3\\envs\\tensorflow\\lib\\site-packages\\ipykernel_launcher.py:5: UserWarning: Update your `Dense` call to the Keras 2 API: `Dense(units=6, kernel_initializer=\"uniform\", activation=\"relu\")`\n",
      "  \"\"\"\n",
      "c:\\users\\cufar\\anaconda3\\envs\\tensorflow\\lib\\site-packages\\ipykernel_launcher.py:8: UserWarning: Update your `Dense` call to the Keras 2 API: `Dense(units=1, kernel_initializer=\"uniform\", activation=\"sigmoid\")`\n",
      "  \n"
     ]
    }
   ],
   "source": [
    "# Adding the input layer and the first hidden layer\n",
    "classifier.add(Dense(output_dim = 6, init = 'uniform', activation = 'relu', input_dim = 11))\n",
    "\n",
    "# Adding the second hidden layer\n",
    "classifier.add(Dense(output_dim = 6, init = 'uniform', activation = 'relu'))\n",
    "\n",
    "# Adding the output layer\n",
    "classifier.add(Dense(output_dim = 1, init = 'uniform', activation = 'sigmoid'))"
   ]
  },
  {
   "cell_type": "code",
   "execution_count": 10,
   "metadata": {},
   "outputs": [],
   "source": [
    "# Compiling Neural Network\n",
    "classifier.compile(optimizer = 'adam', loss = 'binary_crossentropy', metrics = ['accuracy'])"
   ]
  },
  {
   "cell_type": "code",
   "execution_count": 11,
   "metadata": {},
   "outputs": [
    {
     "name": "stderr",
     "output_type": "stream",
     "text": [
      "c:\\users\\cufar\\anaconda3\\envs\\tensorflow\\lib\\site-packages\\keras\\models.py:942: UserWarning: The `nb_epoch` argument in `fit` has been renamed `epochs`.\n",
      "  warnings.warn('The `nb_epoch` argument in `fit` '\n"
     ]
    },
    {
     "name": "stdout",
     "output_type": "stream",
     "text": [
      "Epoch 1/100\n",
      "8000/8000 [==============================] - 1s 181us/step - loss: 0.4910 - acc: 0.7960\n",
      "Epoch 2/100\n",
      "8000/8000 [==============================] - 1s 144us/step - loss: 0.4220 - acc: 0.7965\n",
      "Epoch 3/100\n",
      "8000/8000 [==============================] - 2s 215us/step - loss: 0.4160 - acc: 0.7979\n",
      "Epoch 4/100\n",
      "8000/8000 [==============================] - 1s 182us/step - loss: 0.4124 - acc: 0.8252\n",
      "Epoch 5/100\n",
      "8000/8000 [==============================] - 1s 149us/step - loss: 0.4096 - acc: 0.8282\n",
      "Epoch 6/100\n",
      "8000/8000 [==============================] - 1s 155us/step - loss: 0.4082 - acc: 0.8324\n",
      "Epoch 7/100\n",
      "8000/8000 [==============================] - 1s 124us/step - loss: 0.4064 - acc: 0.8332\n",
      "Epoch 8/100\n",
      "8000/8000 [==============================] - 1s 130us/step - loss: 0.4052 - acc: 0.8355\n",
      "Epoch 9/100\n",
      "8000/8000 [==============================] - 1s 123us/step - loss: 0.4040 - acc: 0.8357\n",
      "Epoch 10/100\n",
      "8000/8000 [==============================] - 1s 139us/step - loss: 0.4030 - acc: 0.8360\n",
      "Epoch 11/100\n",
      "8000/8000 [==============================] - 1s 160us/step - loss: 0.4021 - acc: 0.8369 4s - loss:\n",
      "Epoch 12/100\n",
      "8000/8000 [==============================] - 1s 134us/step - loss: 0.4010 - acc: 0.8366\n",
      "Epoch 13/100\n",
      "8000/8000 [==============================] - 1s 141us/step - loss: 0.4002 - acc: 0.8356\n",
      "Epoch 14/100\n",
      "8000/8000 [==============================] - 1s 132us/step - loss: 0.3997 - acc: 0.8375\n",
      "Epoch 15/100\n",
      "8000/8000 [==============================] - 1s 125us/step - loss: 0.3991 - acc: 0.8359\n",
      "Epoch 16/100\n",
      "8000/8000 [==============================] - 1s 127us/step - loss: 0.3985 - acc: 0.8375\n",
      "Epoch 17/100\n",
      "8000/8000 [==============================] - 1s 124us/step - loss: 0.3980 - acc: 0.8370\n",
      "Epoch 18/100\n",
      "8000/8000 [==============================] - 1s 128us/step - loss: 0.3971 - acc: 0.8370\n",
      "Epoch 19/100\n",
      "8000/8000 [==============================] - 1s 133us/step - loss: 0.3970 - acc: 0.8364\n",
      "Epoch 20/100\n",
      "8000/8000 [==============================] - 1s 125us/step - loss: 0.3967 - acc: 0.8369\n",
      "Epoch 21/100\n",
      "8000/8000 [==============================] - 1s 159us/step - loss: 0.3966 - acc: 0.8374\n",
      "Epoch 22/100\n",
      "8000/8000 [==============================] - 2s 204us/step - loss: 0.3960 - acc: 0.8374\n",
      "Epoch 23/100\n",
      "8000/8000 [==============================] - 1s 182us/step - loss: 0.3955 - acc: 0.8375\n",
      "Epoch 24/100\n",
      "8000/8000 [==============================] - 1s 165us/step - loss: 0.3954 - acc: 0.8387\n",
      "Epoch 25/100\n",
      "8000/8000 [==============================] - 1s 164us/step - loss: 0.3952 - acc: 0.8385\n",
      "Epoch 26/100\n",
      "8000/8000 [==============================] - 1s 169us/step - loss: 0.3953 - acc: 0.8372\n",
      "Epoch 27/100\n",
      "8000/8000 [==============================] - 1s 163us/step - loss: 0.3951 - acc: 0.8377\n",
      "Epoch 28/100\n",
      "8000/8000 [==============================] - 1s 161us/step - loss: 0.3946 - acc: 0.8369\n",
      "Epoch 29/100\n",
      "8000/8000 [==============================] - 1s 171us/step - loss: 0.3947 - acc: 0.8376\n",
      "Epoch 30/100\n",
      "8000/8000 [==============================] - 1s 161us/step - loss: 0.3946 - acc: 0.8376\n",
      "Epoch 31/100\n",
      "8000/8000 [==============================] - 1s 162us/step - loss: 0.3946 - acc: 0.8384\n",
      "Epoch 32/100\n",
      "8000/8000 [==============================] - 1s 167us/step - loss: 0.3941 - acc: 0.8381\n",
      "Epoch 33/100\n",
      "8000/8000 [==============================] - 1s 160us/step - loss: 0.3937 - acc: 0.8376\n",
      "Epoch 34/100\n",
      "8000/8000 [==============================] - 1s 158us/step - loss: 0.3943 - acc: 0.8374\n",
      "Epoch 35/100\n",
      "8000/8000 [==============================] - 1s 160us/step - loss: 0.3941 - acc: 0.8376\n",
      "Epoch 36/100\n",
      "8000/8000 [==============================] - 1s 161us/step - loss: 0.3941 - acc: 0.8367\n",
      "Epoch 37/100\n",
      "8000/8000 [==============================] - 1s 155us/step - loss: 0.3938 - acc: 0.8376\n",
      "Epoch 38/100\n",
      "8000/8000 [==============================] - 1s 161us/step - loss: 0.3940 - acc: 0.8381\n",
      "Epoch 39/100\n",
      "8000/8000 [==============================] - 1s 159us/step - loss: 0.3937 - acc: 0.8370\n",
      "Epoch 40/100\n",
      "8000/8000 [==============================] - 1s 159us/step - loss: 0.3933 - acc: 0.8369\n",
      "Epoch 41/100\n",
      "8000/8000 [==============================] - 1s 157us/step - loss: 0.3934 - acc: 0.8389\n",
      "Epoch 42/100\n",
      "8000/8000 [==============================] - 1s 163us/step - loss: 0.3935 - acc: 0.8365\n",
      "Epoch 43/100\n",
      "8000/8000 [==============================] - 1s 158us/step - loss: 0.3935 - acc: 0.8381\n",
      "Epoch 44/100\n",
      "8000/8000 [==============================] - 1s 158us/step - loss: 0.3933 - acc: 0.8377\n",
      "Epoch 45/100\n",
      "8000/8000 [==============================] - 1s 161us/step - loss: 0.3936 - acc: 0.8377\n",
      "Epoch 46/100\n",
      "8000/8000 [==============================] - 1s 162us/step - loss: 0.3935 - acc: 0.8395\n",
      "Epoch 47/100\n",
      "8000/8000 [==============================] - 1s 158us/step - loss: 0.3932 - acc: 0.8375\n",
      "Epoch 48/100\n",
      "8000/8000 [==============================] - 1s 161us/step - loss: 0.3935 - acc: 0.8376\n",
      "Epoch 49/100\n",
      "8000/8000 [==============================] - 1s 157us/step - loss: 0.3927 - acc: 0.8364\n",
      "Epoch 50/100\n",
      "8000/8000 [==============================] - 1s 158us/step - loss: 0.3932 - acc: 0.8384\n",
      "Epoch 51/100\n",
      "8000/8000 [==============================] - 1s 160us/step - loss: 0.3931 - acc: 0.8359\n",
      "Epoch 52/100\n",
      "8000/8000 [==============================] - 1s 153us/step - loss: 0.3927 - acc: 0.8365\n",
      "Epoch 53/100\n",
      "8000/8000 [==============================] - 1s 152us/step - loss: 0.3929 - acc: 0.8375\n",
      "Epoch 54/100\n",
      "8000/8000 [==============================] - 1s 153us/step - loss: 0.3927 - acc: 0.8377\n",
      "Epoch 55/100\n",
      "8000/8000 [==============================] - 1s 163us/step - loss: 0.3929 - acc: 0.8374\n",
      "Epoch 56/100\n",
      "8000/8000 [==============================] - 1s 156us/step - loss: 0.3933 - acc: 0.8390\n",
      "Epoch 57/100\n",
      "8000/8000 [==============================] - 1s 154us/step - loss: 0.3925 - acc: 0.8385\n",
      "Epoch 58/100\n",
      "8000/8000 [==============================] - 1s 159us/step - loss: 0.3929 - acc: 0.8375\n",
      "Epoch 59/100\n",
      "8000/8000 [==============================] - 1s 155us/step - loss: 0.3931 - acc: 0.8366\n",
      "Epoch 60/100\n",
      "8000/8000 [==============================] - 1s 151us/step - loss: 0.3929 - acc: 0.8379\n",
      "Epoch 61/100\n",
      "8000/8000 [==============================] - 1s 159us/step - loss: 0.3924 - acc: 0.8371\n",
      "Epoch 62/100\n",
      "8000/8000 [==============================] - 1s 154us/step - loss: 0.3928 - acc: 0.8382\n",
      "Epoch 63/100\n",
      "8000/8000 [==============================] - 1s 154us/step - loss: 0.3930 - acc: 0.8375\n",
      "Epoch 64/100\n",
      "8000/8000 [==============================] - 1s 156us/step - loss: 0.3930 - acc: 0.8376\n",
      "Epoch 65/100\n",
      "8000/8000 [==============================] - 1s 156us/step - loss: 0.3926 - acc: 0.8375\n",
      "Epoch 66/100\n",
      "8000/8000 [==============================] - 1s 154us/step - loss: 0.3931 - acc: 0.8367\n",
      "Epoch 67/100\n",
      "8000/8000 [==============================] - 1s 153us/step - loss: 0.3930 - acc: 0.8372\n",
      "Epoch 68/100\n",
      "8000/8000 [==============================] - 1s 159us/step - loss: 0.3926 - acc: 0.8381\n",
      "Epoch 69/100\n",
      "8000/8000 [==============================] - 1s 186us/step - loss: 0.3927 - acc: 0.8386\n",
      "Epoch 70/100\n",
      "8000/8000 [==============================] - 1s 174us/step - loss: 0.3926 - acc: 0.8370\n",
      "Epoch 71/100\n",
      "8000/8000 [==============================] - 2s 200us/step - loss: 0.3921 - acc: 0.8389\n",
      "Epoch 72/100\n",
      "8000/8000 [==============================] - 2s 188us/step - loss: 0.3926 - acc: 0.8387\n",
      "Epoch 73/100\n",
      "8000/8000 [==============================] - 1s 166us/step - loss: 0.3931 - acc: 0.8377\n",
      "Epoch 74/100\n",
      "8000/8000 [==============================] - 1s 166us/step - loss: 0.3922 - acc: 0.8376\n",
      "Epoch 75/100\n",
      "8000/8000 [==============================] - 1s 160us/step - loss: 0.3927 - acc: 0.8380\n",
      "Epoch 76/100\n",
      "8000/8000 [==============================] - 1s 177us/step - loss: 0.3925 - acc: 0.8371\n",
      "Epoch 77/100\n",
      "8000/8000 [==============================] - 2s 196us/step - loss: 0.3924 - acc: 0.8380\n",
      "Epoch 78/100\n",
      "8000/8000 [==============================] - 1s 177us/step - loss: 0.3926 - acc: 0.8377\n",
      "Epoch 79/100\n",
      "8000/8000 [==============================] - 1s 167us/step - loss: 0.3926 - acc: 0.8382\n",
      "Epoch 80/100\n",
      "8000/8000 [==============================] - 1s 163us/step - loss: 0.3924 - acc: 0.8370\n",
      "Epoch 81/100\n",
      "8000/8000 [==============================] - 1s 162us/step - loss: 0.3927 - acc: 0.8370\n",
      "Epoch 82/100\n"
     ]
    },
    {
     "name": "stdout",
     "output_type": "stream",
     "text": [
      "8000/8000 [==============================] - 1s 153us/step - loss: 0.3926 - acc: 0.8382\n",
      "Epoch 83/100\n",
      "8000/8000 [==============================] - 1s 154us/step - loss: 0.3924 - acc: 0.8367\n",
      "Epoch 84/100\n",
      "8000/8000 [==============================] - 1s 150us/step - loss: 0.3923 - acc: 0.8370\n",
      "Epoch 85/100\n",
      "8000/8000 [==============================] - 1s 150us/step - loss: 0.3925 - acc: 0.8372\n",
      "Epoch 86/100\n",
      "8000/8000 [==============================] - 1s 156us/step - loss: 0.3922 - acc: 0.8392\n",
      "Epoch 87/100\n",
      "8000/8000 [==============================] - 1s 152us/step - loss: 0.3923 - acc: 0.8384\n",
      "Epoch 88/100\n",
      "8000/8000 [==============================] - 1s 150us/step - loss: 0.3926 - acc: 0.8351\n",
      "Epoch 89/100\n",
      "8000/8000 [==============================] - 1s 177us/step - loss: 0.3926 - acc: 0.8385\n",
      "Epoch 90/100\n",
      "8000/8000 [==============================] - 1s 180us/step - loss: 0.3927 - acc: 0.8362\n",
      "Epoch 91/100\n",
      "8000/8000 [==============================] - 1s 168us/step - loss: 0.3922 - acc: 0.8370\n",
      "Epoch 92/100\n",
      "8000/8000 [==============================] - 1s 160us/step - loss: 0.3918 - acc: 0.8374\n",
      "Epoch 93/100\n",
      "8000/8000 [==============================] - 1s 157us/step - loss: 0.3923 - acc: 0.8391\n",
      "Epoch 94/100\n",
      "8000/8000 [==============================] - 1s 155us/step - loss: 0.3923 - acc: 0.8366\n",
      "Epoch 95/100\n",
      "8000/8000 [==============================] - 1s 165us/step - loss: 0.3925 - acc: 0.8370\n",
      "Epoch 96/100\n",
      "8000/8000 [==============================] - 1s 176us/step - loss: 0.3923 - acc: 0.8364\n",
      "Epoch 97/100\n",
      "8000/8000 [==============================] - 1s 163us/step - loss: 0.3925 - acc: 0.8367\n",
      "Epoch 98/100\n",
      "8000/8000 [==============================] - 1s 162us/step - loss: 0.3922 - acc: 0.8376\n",
      "Epoch 99/100\n",
      "8000/8000 [==============================] - 1s 159us/step - loss: 0.3922 - acc: 0.8371\n",
      "Epoch 100/100\n",
      "8000/8000 [==============================] - 1s 157us/step - loss: 0.3926 - acc: 0.8372\n"
     ]
    },
    {
     "data": {
      "text/plain": [
       "<keras.callbacks.History at 0x255aba088d0>"
      ]
     },
     "execution_count": 11,
     "metadata": {},
     "output_type": "execute_result"
    }
   ],
   "source": [
    "# Fitting our model \n",
    "classifier.fit(X_train, y_train, batch_size = 10, nb_epoch = 100)"
   ]
  },
  {
   "cell_type": "code",
   "execution_count": 15,
   "metadata": {},
   "outputs": [
    {
     "data": {
      "text/plain": [
       "array([[False],\n",
       "       [False],\n",
       "       [False],\n",
       "       ...,\n",
       "       [False],\n",
       "       [False],\n",
       "       [False]])"
      ]
     },
     "execution_count": 15,
     "metadata": {},
     "output_type": "execute_result"
    }
   ],
   "source": [
    "# Predicting the Test set results\n",
    "y_pred = classifier.predict(X_test)\n",
    "y_pred = (y_pred > 0.5)\n",
    "y_pred"
   ]
  },
  {
   "cell_type": "code",
   "execution_count": 14,
   "metadata": {},
   "outputs": [
    {
     "data": {
      "text/plain": [
       "array([[1535,   56],\n",
       "       [ 280,  129]], dtype=int64)"
      ]
     },
     "execution_count": 14,
     "metadata": {},
     "output_type": "execute_result"
    }
   ],
   "source": [
    "# Creating the Confusion Matrix\n",
    "from sklearn.metrics import confusion_matrix\n",
    "cm = confusion_matrix(y_test, y_pred)\n",
    "cm"
   ]
  },
  {
   "cell_type": "code",
   "execution_count": null,
   "metadata": {},
   "outputs": [],
   "source": []
  }
 ],
 "metadata": {
  "kernelspec": {
   "display_name": "Python 3",
   "language": "python",
   "name": "python3"
  },
  "language_info": {
   "codemirror_mode": {
    "name": "ipython",
    "version": 3
   },
   "file_extension": ".py",
   "mimetype": "text/x-python",
   "name": "python",
   "nbconvert_exporter": "python",
   "pygments_lexer": "ipython3",
   "version": "3.6.4"
  }
 },
 "nbformat": 4,
 "nbformat_minor": 2
}
