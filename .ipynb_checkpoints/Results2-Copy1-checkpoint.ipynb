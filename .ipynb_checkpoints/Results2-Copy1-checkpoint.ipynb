{
 "cells": [
  {
   "cell_type": "code",
   "execution_count": 29,
   "metadata": {},
   "outputs": [
    {
     "name": "stdout",
     "output_type": "stream",
     "text": [
      "0.6632358995471387\n",
      "0.6648826677645121\n",
      "0.6479873717442778\n"
     ]
    }
   ],
   "source": [
    "import numpy as np\n",
    "import pandas as pd\n",
    "import re\n",
    "import numpy\n",
    "\n",
    "features2016=pd.read_csv('newfeatures2016.csv')\n",
    "count=0\n",
    "for i in range(0,len(features2016.index)):\n",
    "    count = count + features2016.loc[i, 'winner']\n",
    "count=count/len(features2016.index)\n",
    "print(count)\n",
    "\n",
    "count=0\n",
    "for i in range(0,len(features2016.index)):\n",
    "    if(features2016.loc[i, 'TMW']==0):\n",
    "        count = count + features2016.loc[i, 'winner']\n",
    "    if(features2016.loc[i, 'TMW']>0):\n",
    "        count = count + 1\n",
    "        \n",
    "count=count/len(features2016.index)\n",
    "print(count)\n",
    "\n",
    "\n",
    "\n",
    "features2017=pd.read_csv('newfeatures2018.csv')\n",
    "count=0\n",
    "for i in range(0,len(features2017.index)):\n",
    "    count = count + features2017.loc[i, 'winner']\n",
    "count=count/len(features2017.index)\n",
    "print(count)\n",
    "\n"
   ]
  },
  {
   "cell_type": "code",
   "execution_count": 32,
   "metadata": {},
   "outputs": [],
   "source": [
    "#features2016 = features2016.filter(['FS','W1SP','W2SP','WSP','DF','BP','COMPLETE','TPW','SERVEADV','winner'], axis=1)\n",
    "#features2017 = features2017.filter(['FS','W1SP','W2SP','WSP','DF','BP','COMPLETE','TPW','SERVEADV','winner'], axis=1)\n",
    "#features2017a = features2017a.filter(['FS','W1SP','W2SP','WSP','DF','BP','COMPLETE','TPW','SERVEADV','winner'], axis=1)\n",
    "\n",
    "\n",
    "X_train = features2016.iloc[:, features2016.columns.get_loc('FS'):features2016.columns.get_loc('winner')].values\n",
    "y_train = features2016.iloc[:, features2016.columns.get_loc('winner')].values\n",
    "\n",
    "\n",
    "X_test = features2017.iloc[:, features2017.columns.get_loc('FS'):features2017.columns.get_loc('winner')].values\n",
    "y_test = features2017.iloc[:, features2017.columns.get_loc('winner')].values\n",
    "\n"
   ]
  },
  {
   "cell_type": "code",
   "execution_count": 25,
   "metadata": {},
   "outputs": [
    {
     "data": {
      "text/plain": [
       "array([-1.10000000e+01,  6.09500000e+03, -9.28961749e-03])"
      ]
     },
     "execution_count": 25,
     "metadata": {},
     "output_type": "execute_result"
    }
   ],
   "source": [
    "X_train[0]"
   ]
  },
  {
   "cell_type": "code",
   "execution_count": 12,
   "metadata": {},
   "outputs": [
    {
     "data": {
      "text/plain": [
       "array([-0.06204977,  0.10477276, -0.26414206, -0.03040855, -0.04737588,\n",
       "        0.01471537,  1.        ,  0.2828612 ,  0.11874029,  0.10946276,\n",
       "       -0.04471818, -0.07778443])"
      ]
     },
     "execution_count": 12,
     "metadata": {},
     "output_type": "execute_result"
    }
   ],
   "source": [
    "X_test[0]"
   ]
  },
  {
   "cell_type": "code",
   "execution_count": 33,
   "metadata": {},
   "outputs": [
    {
     "name": "stderr",
     "output_type": "stream",
     "text": [
      "c:\\users\\cufar\\anaconda3\\envs\\tensorflow\\lib\\site-packages\\ipykernel_launcher.py:12: UserWarning: Update your `Dense` call to the Keras 2 API: `Dense(input_dim=12, units=6, kernel_initializer=\"uniform\", activation=\"relu\")`\n",
      "  if sys.path[0] == '':\n",
      "c:\\users\\cufar\\anaconda3\\envs\\tensorflow\\lib\\site-packages\\ipykernel_launcher.py:15: UserWarning: Update your `Dense` call to the Keras 2 API: `Dense(kernel_initializer=\"uniform\", activation=\"relu\", units=6)`\n",
      "  from ipykernel import kernelapp as app\n",
      "c:\\users\\cufar\\anaconda3\\envs\\tensorflow\\lib\\site-packages\\ipykernel_launcher.py:18: UserWarning: Update your `Dense` call to the Keras 2 API: `Dense(kernel_initializer=\"uniform\", activation=\"sigmoid\", units=1)`\n",
      "c:\\users\\cufar\\anaconda3\\envs\\tensorflow\\lib\\site-packages\\keras\\models.py:942: UserWarning: The `nb_epoch` argument in `fit` has been renamed `epochs`.\n",
      "  warnings.warn('The `nb_epoch` argument in `fit` '\n"
     ]
    },
    {
     "name": "stdout",
     "output_type": "stream",
     "text": [
      "_________________________________________________________________\n",
      "Layer (type)                 Output Shape              Param #   \n",
      "=================================================================\n",
      "dense_25 (Dense)             (None, 6)                 78        \n",
      "_________________________________________________________________\n",
      "dense_26 (Dense)             (None, 6)                 42        \n",
      "_________________________________________________________________\n",
      "dense_27 (Dense)             (None, 1)                 7         \n",
      "=================================================================\n",
      "Total params: 127\n",
      "Trainable params: 127\n",
      "Non-trainable params: 0\n",
      "_________________________________________________________________\n",
      "None\n",
      "Epoch 1/20\n",
      "2429/2429 [==============================] - 1s 273us/step - loss: 0.5995 - acc: 0.8345\n",
      "Epoch 2/20\n",
      "2429/2429 [==============================] - 0s 133us/step - loss: 0.1786 - acc: 0.9922\n",
      "Epoch 3/20\n",
      "2429/2429 [==============================] - 0s 130us/step - loss: 0.0516 - acc: 0.9926\n",
      "Epoch 4/20\n",
      "2429/2429 [==============================] - 0s 124us/step - loss: 0.0316 - acc: 0.9926\n",
      "Epoch 5/20\n",
      "2429/2429 [==============================] - 0s 130us/step - loss: 0.0256 - acc: 0.9922\n",
      "Epoch 6/20\n",
      "2429/2429 [==============================] - 0s 152us/step - loss: 0.0233 - acc: 0.9922\n",
      "Epoch 7/20\n",
      "2429/2429 [==============================] - 0s 150us/step - loss: 0.0219 - acc: 0.9926\n",
      "Epoch 8/20\n",
      "2429/2429 [==============================] - 0s 139us/step - loss: 0.0211 - acc: 0.9926\n",
      "Epoch 9/20\n",
      "2429/2429 [==============================] - 0s 150us/step - loss: 0.0207 - acc: 0.9930\n",
      "Epoch 10/20\n",
      "2429/2429 [==============================] - 0s 130us/step - loss: 0.0203 - acc: 0.9926\n",
      "Epoch 11/20\n",
      "2429/2429 [==============================] - 0s 143us/step - loss: 0.0202 - acc: 0.9926\n",
      "Epoch 12/20\n",
      "2429/2429 [==============================] - 0s 130us/step - loss: 0.0200 - acc: 0.9926\n",
      "Epoch 13/20\n",
      "2429/2429 [==============================] - 0s 133us/step - loss: 0.0197 - acc: 0.9926\n",
      "Epoch 14/20\n",
      "2429/2429 [==============================] - 0s 130us/step - loss: 0.0196 - acc: 0.9930\n",
      "Epoch 15/20\n",
      "2429/2429 [==============================] - 0s 137us/step - loss: 0.0195 - acc: 0.9926\n",
      "Epoch 16/20\n",
      "2429/2429 [==============================] - 0s 130us/step - loss: 0.0195 - acc: 0.9926\n",
      "Epoch 17/20\n",
      "2429/2429 [==============================] - 0s 130us/step - loss: 0.0194 - acc: 0.9934\n",
      "Epoch 18/20\n",
      "2429/2429 [==============================] - 0s 126us/step - loss: 0.0193 - acc: 0.9930\n",
      "Epoch 19/20\n",
      "2429/2429 [==============================] - 0s 137us/step - loss: 0.0192 - acc: 0.9930\n",
      "Epoch 20/20\n",
      "2429/2429 [==============================] - 0s 143us/step - loss: 0.0192 - acc: 0.9926\n",
      "[[ 809   83]\n",
      " [  50 1592]]\n",
      "0.9475138121546961\n"
     ]
    }
   ],
   "source": [
    "import keras\n",
    "from keras import optimizers\n",
    "from keras.models import Sequential\n",
    "from keras.layers import Dense, Dropout, BatchNormalization\n",
    "from sklearn.metrics import confusion_matrix\n",
    "from sklearn.metrics import accuracy_score\n",
    "from keras.callbacks import ModelCheckpoint\n",
    "\n",
    "classifier = Sequential()\n",
    "\n",
    "# Adding the input layer and the first hidden layer\n",
    "classifier.add(Dense(output_dim = 6, init = 'uniform', activation = 'relu', input_dim = X_train.shape[1]))\n",
    "\n",
    "# Adding the second hidden layer\n",
    "classifier.add(Dense(output_dim = 6, init = 'uniform', activation = 'relu'))\n",
    "\n",
    "# Adding the output layer\n",
    "classifier.add(Dense(output_dim = 1, init = 'uniform', activation = 'sigmoid'))\n",
    "\n",
    "# Compiling Neural Network\n",
    "classifier.compile(optimizer = 'adam', loss = 'binary_crossentropy', metrics = ['accuracy'])\n",
    "print(classifier.summary())\n",
    "\n",
    "# Fitting our model \n",
    "classifier.fit(X_train, y_train, batch_size = 10, nb_epoch = 20)\n",
    "\n",
    "# Predicting the Test set results\n",
    "y_pred = classifier.predict(X_test)\n",
    "y_pred = (y_pred > 0.5)\n",
    "\n",
    "\n",
    "# Creating the Confusion Matrix\n",
    "cm = confusion_matrix(y_test, y_pred)\n",
    "print(cm)\n",
    "\n",
    "acc = accuracy_score(y_test, y_pred, normalize=True, sample_weight=None)\n",
    "print(acc)"
   ]
  },
  {
   "cell_type": "code",
   "execution_count": null,
   "metadata": {},
   "outputs": [],
   "source": []
  }
 ],
 "metadata": {
  "kernelspec": {
   "display_name": "Python 3",
   "language": "python",
   "name": "python3"
  },
  "language_info": {
   "codemirror_mode": {
    "name": "ipython",
    "version": 3
   },
   "file_extension": ".py",
   "mimetype": "text/x-python",
   "name": "python",
   "nbconvert_exporter": "python",
   "pygments_lexer": "ipython3",
   "version": "3.5.5"
  }
 },
 "nbformat": 4,
 "nbformat_minor": 2
}
