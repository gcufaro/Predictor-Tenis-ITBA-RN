{
 "cells": [
  {
   "cell_type": "code",
   "execution_count": 4,
   "metadata": {},
   "outputs": [
    {
     "name": "stdout",
     "output_type": "stream",
     "text": [
      "0.6632358995471387\n",
      "0.6648826677645121\n",
      "0.6479873717442778\n"
     ]
    }
   ],
   "source": [
    "import numpy as np\n",
    "import pandas as pd\n",
    "import re\n",
    "import numpy\n",
    "\n",
    "features2016=pd.read_csv('newfeatures2016.csv')\n",
    "count=0\n",
    "for i in range(0,len(features2016.index)):\n",
    "    count = count + features2016.loc[i, 'winner']\n",
    "count=count/len(features2016.index)\n",
    "print(count)\n",
    "\n",
    "count=0\n",
    "for i in range(0,len(features2016.index)):\n",
    "    if(features2016.loc[i, 'TMW']==0):\n",
    "        count = count + features2016.loc[i, 'winner']\n",
    "    if(features2016.loc[i, 'TMW']>0):\n",
    "        count = count + 1\n",
    "        \n",
    "count=count/len(features2016.index)\n",
    "print(count)\n",
    "\n",
    "\n",
    "\n",
    "features2017=pd.read_csv('newfeatures2018.csv')\n",
    "count=0\n",
    "for i in range(0,len(features2017.index)):\n",
    "    count = count + features2017.loc[i, 'winner']\n",
    "count=count/len(features2017.index)\n",
    "print(count)\n",
    "\n"
   ]
  },
  {
   "cell_type": "code",
   "execution_count": 5,
   "metadata": {},
   "outputs": [],
   "source": [
    "#features2016 = features2016.filter(['FS','W1SP','W2SP','WSP','DF','BP','COMPLETE','TPW','SERVEADV','winner'], axis=1)\n",
    "#features2017 = features2017.filter(['FS','W1SP','W2SP','WSP','DF','BP','COMPLETE','TPW','SERVEADV','winner'], axis=1)\n",
    "#features2017a = features2017a.filter(['FS','W1SP','W2SP','WSP','DF','BP','COMPLETE','TPW','SERVEADV','winner'], axis=1)\n",
    "\n",
    "\n",
    "X_train = features2016.iloc[:, features2016.columns.get_loc('FS'):features2016.columns.get_loc('winner')].values\n",
    "y_train = features2016.iloc[:, features2016.columns.get_loc('winner')].values\n",
    "\n",
    "\n",
    "X_test = features2017.iloc[:, features2017.columns.get_loc('FS'):features2017.columns.get_loc('winner')].values\n",
    "y_test = features2017.iloc[:, features2017.columns.get_loc('winner')].values\n",
    "\n"
   ]
  },
  {
   "cell_type": "code",
   "execution_count": 25,
   "metadata": {},
   "outputs": [
    {
     "data": {
      "text/plain": [
       "array([-1.10000000e+01,  6.09500000e+03, -9.28961749e-03])"
      ]
     },
     "execution_count": 25,
     "metadata": {},
     "output_type": "execute_result"
    }
   ],
   "source": [
    "X_train[0]"
   ]
  },
  {
   "cell_type": "code",
   "execution_count": 1,
   "metadata": {},
   "outputs": [
    {
     "ename": "NameError",
     "evalue": "name 'X_test' is not defined",
     "output_type": "error",
     "traceback": [
      "\u001b[1;31m---------------------------------------------------------------------------\u001b[0m",
      "\u001b[1;31mNameError\u001b[0m                                 Traceback (most recent call last)",
      "\u001b[1;32m<ipython-input-1-04cea84bf598>\u001b[0m in \u001b[0;36m<module>\u001b[1;34m()\u001b[0m\n\u001b[1;32m----> 1\u001b[1;33m \u001b[0mX_test\u001b[0m\u001b[1;33m[\u001b[0m\u001b[1;36m0\u001b[0m\u001b[1;33m]\u001b[0m\u001b[1;33m\u001b[0m\u001b[0m\n\u001b[0m",
      "\u001b[1;31mNameError\u001b[0m: name 'X_test' is not defined"
     ]
    }
   ],
   "source": [
    "X_test[0]"
   ]
  },
  {
   "cell_type": "code",
   "execution_count": 3,
   "metadata": {},
   "outputs": [
    {
     "name": "stderr",
     "output_type": "stream",
     "text": [
      "c:\\users\\cufar\\anaconda3\\envs\\tensorflow\\lib\\site-packages\\h5py\\__init__.py:36: FutureWarning: Conversion of the second argument of issubdtype from `float` to `np.floating` is deprecated. In future, it will be treated as `np.float64 == np.dtype(float).type`.\n",
      "  from ._conv import register_converters as _register_converters\n",
      "Using TensorFlow backend.\n",
      "c:\\users\\cufar\\anaconda3\\envs\\tensorflow\\lib\\site-packages\\ipykernel_launcher.py:12: UserWarning: Update your `Dense` call to the Keras 2 API: `Dense(input_dim=12, kernel_initializer=\"uniform\", activation=\"relu\", units=6)`\n",
      "  if sys.path[0] == '':\n",
      "c:\\users\\cufar\\anaconda3\\envs\\tensorflow\\lib\\site-packages\\ipykernel_launcher.py:15: UserWarning: Update your `Dense` call to the Keras 2 API: `Dense(kernel_initializer=\"uniform\", activation=\"relu\", units=6)`\n",
      "  from ipykernel import kernelapp as app\n",
      "c:\\users\\cufar\\anaconda3\\envs\\tensorflow\\lib\\site-packages\\ipykernel_launcher.py:18: UserWarning: Update your `Dense` call to the Keras 2 API: `Dense(kernel_initializer=\"uniform\", activation=\"sigmoid\", units=1)`\n",
      "c:\\users\\cufar\\anaconda3\\envs\\tensorflow\\lib\\site-packages\\keras\\models.py:942: UserWarning: The `nb_epoch` argument in `fit` has been renamed `epochs`.\n",
      "  warnings.warn('The `nb_epoch` argument in `fit` '\n"
     ]
    },
    {
     "name": "stdout",
     "output_type": "stream",
     "text": [
      "_________________________________________________________________\n",
      "Layer (type)                 Output Shape              Param #   \n",
      "=================================================================\n",
      "dense_1 (Dense)              (None, 6)                 78        \n",
      "_________________________________________________________________\n",
      "dense_2 (Dense)              (None, 6)                 42        \n",
      "_________________________________________________________________\n",
      "dense_3 (Dense)              (None, 1)                 7         \n",
      "=================================================================\n",
      "Total params: 127\n",
      "Trainable params: 127\n",
      "Non-trainable params: 0\n",
      "_________________________________________________________________\n",
      "None\n",
      "Epoch 1/20\n",
      "2429/2429 [==============================] - 1s 322us/step - loss: 0.5729 - acc: 0.8625\n",
      "Epoch 2/20\n",
      "2429/2429 [==============================] - 0s 122us/step - loss: 0.1509 - acc: 0.9918\n",
      "Epoch 3/20\n",
      "2429/2429 [==============================] - 0s 119us/step - loss: 0.0458 - acc: 0.9922\n",
      "Epoch 4/20\n",
      "2429/2429 [==============================] - 0s 119us/step - loss: 0.0295 - acc: 0.9922\n",
      "Epoch 5/20\n",
      "2429/2429 [==============================] - 0s 135us/step - loss: 0.0246 - acc: 0.9926\n",
      "Epoch 6/20\n",
      "2429/2429 [==============================] - 0s 121us/step - loss: 0.0227 - acc: 0.9926\n",
      "Epoch 7/20\n",
      "2429/2429 [==============================] - 0s 127us/step - loss: 0.0214 - acc: 0.9926\n",
      "Epoch 8/20\n",
      "2429/2429 [==============================] - 0s 123us/step - loss: 0.0208 - acc: 0.9926\n",
      "Epoch 9/20\n",
      "2429/2429 [==============================] - 0s 123us/step - loss: 0.0205 - acc: 0.9926\n",
      "Epoch 10/20\n",
      "2429/2429 [==============================] - 0s 119us/step - loss: 0.0202 - acc: 0.9926\n",
      "Epoch 11/20\n",
      "2429/2429 [==============================] - 0s 126us/step - loss: 0.0201 - acc: 0.9922\n",
      "Epoch 12/20\n",
      "2429/2429 [==============================] - 0s 122us/step - loss: 0.0199 - acc: 0.9926\n",
      "Epoch 13/20\n",
      "2429/2429 [==============================] - 0s 126us/step - loss: 0.0197 - acc: 0.9926\n",
      "Epoch 14/20\n",
      "2429/2429 [==============================] - 0s 131us/step - loss: 0.0195 - acc: 0.9934\n",
      "Epoch 15/20\n",
      "2429/2429 [==============================] - 0s 119us/step - loss: 0.0195 - acc: 0.9926\n",
      "Epoch 16/20\n",
      "2429/2429 [==============================] - 0s 125us/step - loss: 0.0196 - acc: 0.9926\n",
      "Epoch 17/20\n",
      "2429/2429 [==============================] - 0s 122us/step - loss: 0.0194 - acc: 0.9930\n",
      "Epoch 18/20\n",
      "2429/2429 [==============================] - 0s 121us/step - loss: 0.0193 - acc: 0.9926\n",
      "Epoch 19/20\n",
      "2429/2429 [==============================] - 0s 121us/step - loss: 0.0192 - acc: 0.9922\n",
      "Epoch 20/20\n",
      "2429/2429 [==============================] - 0s 124us/step - loss: 0.0194 - acc: 0.9922\n",
      "[[ 810   82]\n",
      " [  51 1591]]\n",
      "0.9475138121546961\n"
     ]
    }
   ],
   "source": [
    "import keras\n",
    "from keras import optimizers\n",
    "from keras.models import Sequential\n",
    "from keras.layers import Dense, Dropout, BatchNormalization\n",
    "from sklearn.metrics import confusion_matrix\n",
    "from sklearn.metrics import accuracy_score\n",
    "from keras.callbacks import ModelCheckpoint\n",
    "\n",
    "classifier = Sequential()\n",
    "\n",
    "# Adding the input layer and the first hidden layer\n",
    "classifier.add(Dense(output_dim = 6, init = 'uniform', activation = 'relu', input_dim = X_train.shape[1]))\n",
    "\n",
    "# Adding the second hidden layer\n",
    "classifier.add(Dense(output_dim = 6, init = 'uniform', activation = 'relu'))\n",
    "\n",
    "# Adding the output layer\n",
    "classifier.add(Dense(output_dim = 1, init = 'uniform', activation = 'sigmoid'))\n",
    "\n",
    "# Compiling Neural Network\n",
    "classifier.compile(optimizer = 'adam', loss = 'binary_crossentropy', metrics = ['accuracy'])\n",
    "print(classifier.summary())\n",
    "\n",
    "# Fitting our model \n",
    "classifier.fit(X_train, y_train, batch_size = 10, nb_epoch = 20)\n",
    "\n",
    "# Predicting the Test set results\n",
    "y_pred = classifier.predict(X_test)\n",
    "y_pred = (y_pred > 0.5)\n",
    "\n",
    "\n",
    "# Creating the Confusion Matrix\n",
    "cm = confusion_matrix(y_test, y_pred)\n",
    "print(cm)\n",
    "\n",
    "acc = accuracy_score(y_test, y_pred, normalize=True, sample_weight=None)\n",
    "print(acc)"
   ]
  },
  {
   "cell_type": "code",
   "execution_count": null,
   "metadata": {},
   "outputs": [],
   "source": []
  }
 ],
 "metadata": {
  "kernelspec": {
   "display_name": "Python 3",
   "language": "python",
   "name": "python3"
  },
  "language_info": {
   "codemirror_mode": {
    "name": "ipython",
    "version": 3
   },
   "file_extension": ".py",
   "mimetype": "text/x-python",
   "name": "python",
   "nbconvert_exporter": "python",
   "pygments_lexer": "ipython3",
   "version": "3.5.5"
  }
 },
 "nbformat": 4,
 "nbformat_minor": 2
}
